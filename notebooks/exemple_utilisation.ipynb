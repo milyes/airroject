
{
 "cells": [
  {
   "cell_type": "markdown",
   "metadata": {},
   "source": [
    "# Exemple d'utilisation du module IA Automatique\n",
    "\n",
    "Ce notebook montre comment utiliser le module IA automatique créé dans main.py"
   ]
  },
  {
   "cell_type": "code",
   "execution_count": null,
   "metadata": {},
   "source": [
    "import sys\n",
    "sys.path.append('..')\n",
    "from main import ModeleIAAutomatique\n",
    "import pandas as pd\n",
    "import matplotlib.pyplot as plt"
   ]
  },
  {
   "cell_type": "markdown",
   "metadata": {},
   "source": [
    "## 1. Initialisation du modèle"
   ]
  },
  {
   "cell_type": "code",
   "execution_count": null,
   "metadata": {},
   "source": [
    "modele = ModeleIAAutomatique(\"mon_premier_modele\")"
   ]
  },
  {
   "cell_type": "markdown",
   "metadata": {},
   "source": [
    "## 2. Préparation des données\n",
    "Utilisons les données d'exemple générées par main.py"
   ]
  },
  {
   "cell_type": "code",
   "execution_count": null,
   "metadata": {},
   "source": [
    "X_train, X_test, y_train, y_test, colonnes = modele.preparer_donnees('../data/donnees_exemple.csv', 'target')"
   ]
  },
  {
   "cell_type": "markdown",
   "metadata": {},
   "source": [
    "## 3. Entraînement du modèle Random Forest"
   ]
  },
  {
   "cell_type": "code",
   "execution_count": null,
   "metadata": {},
   "source": [
    "modele.entrainer_modele_foret(X_train, y_train, n_estimators=100)"
   ]
  },
  {
   "cell_type": "markdown",
   "metadata": {},
   "source": [
    "## 4. Évaluation du modèle"
   ]
  },
  {
   "cell_type": "code",
   "execution_count": null,
   "metadata": {},
   "source": [
    "accuracy = modele.evaluer_modele(X_test, y_test)"
   ]
  },
  {
   "cell_type": "markdown",
   "metadata": {},
   "source": [
    "## 5. Sauvegarde du modèle"
   ]
  },
  {
   "cell_type": "code",
   "execution_count": null,
   "metadata": {},
   "source": [
    "modele.sauvegarder_modele()"
   ]
  },
  {
   "cell_type": "markdown",
   "metadata": {},
   "source": [
    "## 6. Alternative: Modèle TensorFlow"
   ]
  },
  {
   "cell_type": "code",
   "execution_count": null,
   "metadata": {},
   "source": [
    "modele_tf = ModeleIAAutomatique(\"mon_modele_tensorflow\")\n",
    "X_train, X_test, y_train, y_test, _ = modele_tf.preparer_donnees('../data/donnees_exemple.csv', 'target')\n",
    "history = modele_tf.entrainer_modele_tensorflow(X_train, y_train, epochs=15)"
   ]
  },
  {
   "cell_type": "code",
   "execution_count": null,
   "metadata": {},
   "source": [
    "# Visualisation de l'historique d'entraînement\n",
    "plt.figure(figsize=(12, 4))\n",
    "\n",
    "plt.subplot(1, 2, 1)\n",
    "plt.plot(history.history['loss'], label='Perte (entraînement)')\n",
    "plt.plot(history.history['val_loss'], label='Perte (validation)')\n",
    "plt.title('Évolution de la perte')\n",
    "plt.xlabel('Époque')\n",
    "plt.ylabel('Perte')\n",
    "plt.legend()\n",
    "\n",
    "plt.subplot(1, 2, 2)\n",
    "plt.plot(history.history['accuracy'], label='Précision (entraînement)')\n",
    "plt.plot(history.history['val_accuracy'], label='Précision (validation)')\n",
    "plt.title('Évolution de la précision')\n",
    "plt.xlabel('Époque')\n",
    "plt.ylabel('Précision')\n",
    "plt.legend()\n",
    "\n",
    "plt.tight_layout()\n",
    "plt.show()"
   ]
  },
  {
   "cell_type": "markdown",
   "metadata": {},
   "source": [
    "## 7. Évaluation et sauvegarde du modèle TensorFlow"
   ]
  },
  {
   "cell_type": "code",
   "execution_count": null,
   "metadata": {},
   "source": [
    "modele_tf.evaluer_modele(X_test, y_test)\n",
    "modele_tf.sauvegarder_modele()"
   ]
  },
  {
   "cell_type": "markdown",
   "metadata": {},
   "source": [
    "## 8. Chargement et utilisation d'un modèle sauvegardé"
   ]
  },
  {
   "cell_type": "code",
   "execution_count": null,
   "metadata": {},
   "source": [
    "# Créer un nouveau modèle et charger un modèle sauvegardé\n",
    "nouveau_modele = ModeleIAAutomatique(\"modele_charge\")\n",
    "nouveau_modele.charger_modele(\"../models/mon_premier_modele.joblib\")\n",
    "\n",
    "# Charger quelques données pour tester\n",
    "donnees_test = pd.read_csv(\"../data/donnees_exemple.csv\").drop(\"target\", axis=1).head(5)\n",
    "print(\"Données test:\")\n",
    "print(donnees_test)\n",
    "\n",
    "# Faire des prédictions\n",
    "predictions = nouveau_modele.predire(donnees_test)\n",
    "print(\"\\nPrédictions:\")\n",
    "print(predictions)"
   ]
  }
 ],
 "metadata": {
  "kernelspec": {
   "display_name": "Python 3",
   "language": "python",
   "name": "python3"
  },
  "language_info": {
   "codemirror_mode": {
    "name": "ipython",
    "version": 3
   },
   "file_extension": ".py",
   "mimetype": "text/x-python",
   "name": "python",
   "nbconvert_exporter": "python",
   "pygments_lexer": "ipython3",
   "version": "3.10.0"
  }
 },
 "nbformat": 4,
 "nbformat_minor": 4
}
